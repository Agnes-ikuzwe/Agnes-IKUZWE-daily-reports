{
 "cells": [
  {
   "cell_type": "markdown",
   "id": "946dcae8",
   "metadata": {},
   "source": [
    "# Practical_6: Numpy"
   ]
  },
  {
   "cell_type": "markdown",
   "id": "seventh-system",
   "metadata": {},
   "source": [
    "---\n",
    "\n",
    "### Exercise 1:\n",
    "Create a NumPy array of integers from 1 to 10."
   ]
  },
  {
   "cell_type": "code",
   "execution_count": 1,
   "id": "arabic-genealogy",
   "metadata": {},
   "outputs": [],
   "source": [
    "from numpy import *"
   ]
  },
  {
   "cell_type": "code",
   "execution_count": 4,
   "id": "proprietary-showcase",
   "metadata": {},
   "outputs": [
    {
     "name": "stdout",
     "output_type": "stream",
     "text": [
      "[ 1  2  3  4  5  6  7  8  9 10]\n"
     ]
    }
   ],
   "source": [
    "a=array([1,2,3,4,5,6,7,8,9,10])\n",
    "print(a)"
   ]
  },
  {
   "cell_type": "markdown",
   "id": "familiar-mixture",
   "metadata": {},
   "source": [
    "---\n",
    "\n",
    "### Exercise 2:\n",
    "Create a 3x3 NumPy array filled with zeros."
   ]
  },
  {
   "cell_type": "code",
   "execution_count": 5,
   "id": "requested-eugene",
   "metadata": {},
   "outputs": [
    {
     "data": {
      "text/plain": [
       "array([[0., 0., 0.],\n",
       "       [0., 0., 0.],\n",
       "       [0., 0., 0.]])"
      ]
     },
     "execution_count": 5,
     "metadata": {},
     "output_type": "execute_result"
    }
   ],
   "source": [
    "zeros([3,3])"
   ]
  },
  {
   "cell_type": "markdown",
   "id": "advisory-massage",
   "metadata": {},
   "source": [
    "---\n",
    "\n",
    "### Exercise 3:\n",
    "Create a NumPy array of 10 evenly spaced numbers between 0 and 5."
   ]
  },
  {
   "cell_type": "code",
   "execution_count": 6,
   "id": "dietary-consortium",
   "metadata": {},
   "outputs": [
    {
     "data": {
      "text/plain": [
       "array([0.        , 0.55555556, 1.11111111, 1.66666667, 2.22222222,\n",
       "       2.77777778, 3.33333333, 3.88888889, 4.44444444, 5.        ])"
      ]
     },
     "execution_count": 6,
     "metadata": {},
     "output_type": "execute_result"
    }
   ],
   "source": [
    "linspace(0, 5, 10)\n"
   ]
  },
  {
   "cell_type": "markdown",
   "id": "introductory-terminology",
   "metadata": {},
   "source": [
    "---\n",
    "\n",
    "### Exercise 4:\n",
    "Create a 5x5 identity matrix using NumPy."
   ]
  },
  {
   "cell_type": "code",
   "execution_count": 11,
   "id": "oriental-reduction",
   "metadata": {},
   "outputs": [
    {
     "data": {
      "text/plain": [
       "array([[1., 0., 0., 0., 0.],\n",
       "       [0., 1., 0., 0., 0.],\n",
       "       [0., 0., 1., 0., 0.],\n",
       "       [0., 0., 0., 1., 0.],\n",
       "       [0., 0., 0., 0., 1.]])"
      ]
     },
     "execution_count": 11,
     "metadata": {},
     "output_type": "execute_result"
    }
   ],
   "source": [
    "eye(5)"
   ]
  },
  {
   "cell_type": "markdown",
   "id": "contrary-cathedral",
   "metadata": {},
   "source": [
    "---\n",
    "\n",
    "### Exercise 5:\n",
    "Create a 4x4 matrix with random values between 0 and 1."
   ]
  },
  {
   "cell_type": "code",
   "execution_count": 62,
   "id": "focal-architect",
   "metadata": {},
   "outputs": [
    {
     "data": {
      "text/plain": [
       "array([[0.6069516 , 0.12829785, 0.46235467, 0.8322923 ],\n",
       "       [0.01979868, 0.63459511, 0.82081466, 0.38816322],\n",
       "       [0.16493764, 0.42244219, 0.48490056, 0.35031172],\n",
       "       [0.95447964, 0.5362816 , 0.18116502, 0.20549931]])"
      ]
     },
     "execution_count": 62,
     "metadata": {},
     "output_type": "execute_result"
    }
   ],
   "source": [
    "random.rand(4,4)"
   ]
  },
  {
   "cell_type": "markdown",
   "id": "helpful-rolling",
   "metadata": {},
   "source": [
    "---\n",
    "\n",
    "### Exercise 6:\n",
    "Find the shape of a NumPy array."
   ]
  },
  {
   "cell_type": "code",
   "execution_count": 25,
   "id": "large-crowd",
   "metadata": {},
   "outputs": [
    {
     "data": {
      "text/plain": [
       "(5,)"
      ]
     },
     "execution_count": 25,
     "metadata": {},
     "output_type": "execute_result"
    }
   ],
   "source": [
    "a=array([1, 2, 3,4,5])\n",
    "a.shape\n",
    "\n"
   ]
  },
  {
   "cell_type": "markdown",
   "id": "unlike-seventh",
   "metadata": {},
   "source": [
    "---\n",
    "\n",
    "### Exercise 7:\n",
    "Reshape a 1D NumPy array of 16 elements into a 4x4 matrix."
   ]
  },
  {
   "cell_type": "code",
   "execution_count": 41,
   "id": "framed-genetics",
   "metadata": {},
   "outputs": [
    {
     "data": {
      "text/plain": [
       "array([[ 1,  2,  3,  4],\n",
       "       [ 5,  6,  7,  8],\n",
       "       [ 9, 10, 11, 12],\n",
       "       [13, 14, 15, 16]])"
      ]
     },
     "execution_count": 41,
     "metadata": {},
     "output_type": "execute_result"
    }
   ],
   "source": [
    "arange(1, 17).reshape((4, 4))\n",
    "\n"
   ]
  },
  {
   "cell_type": "code",
   "execution_count": 122,
   "id": "brutal-board",
   "metadata": {},
   "outputs": [
    {
     "data": {
      "text/plain": [
       "array([[ 9,  9, 10, 13],\n",
       "       [ 6,  4,  1, 11],\n",
       "       [13,  4,  9, 13],\n",
       "       [ 6,  4,  6,  4]])"
      ]
     },
     "execution_count": 122,
     "metadata": {},
     "output_type": "execute_result"
    }
   ],
   "source": [
    "random.randint(1,16,(4,4))"
   ]
  },
  {
   "cell_type": "markdown",
   "id": "victorian-inspiration",
   "metadata": {},
   "source": [
    "---\n",
    "\n",
    "### Exercise 8:\n",
    "Find the data type of the elements in a NumPy array."
   ]
  },
  {
   "cell_type": "code",
   "execution_count": 48,
   "id": "banned-drill",
   "metadata": {},
   "outputs": [
    {
     "name": "stdout",
     "output_type": "stream",
     "text": [
      "int64\n"
     ]
    }
   ],
   "source": [
    "a=array(16)\n",
    "print(a.dtype)\n"
   ]
  },
  {
   "cell_type": "markdown",
   "id": "dirty-rider",
   "metadata": {},
   "source": [
    "---\n",
    "\n",
    "### Exercise 9:\n",
    "Create a NumPy array of integers from 1 to 100 and find all even numbers in the array."
   ]
  },
  {
   "cell_type": "code",
   "execution_count": 55,
   "id": "corresponding-ballet",
   "metadata": {},
   "outputs": [
    {
     "data": {
      "text/plain": [
       "array([  2,   4,   6,   8,  10,  12,  14,  16,  18,  20,  22,  24,  26,\n",
       "        28,  30,  32,  34,  36,  38,  40,  42,  44,  46,  48,  50,  52,\n",
       "        54,  56,  58,  60,  62,  64,  66,  68,  70,  72,  74,  76,  78,\n",
       "        80,  82,  84,  86,  88,  90,  92,  94,  96,  98, 100])"
      ]
     },
     "execution_count": 55,
     "metadata": {},
     "output_type": "execute_result"
    }
   ],
   "source": [
    "a=arange(1,101)\n",
    "a[(a%2==0)]"
   ]
  },
  {
   "cell_type": "markdown",
   "id": "informal-speed",
   "metadata": {},
   "source": [
    "---\n",
    "\n",
    "### Exercise 10:\n",
    "Generate a 6x6 matrix of random integers between 10 and 50."
   ]
  },
  {
   "cell_type": "code",
   "execution_count": 60,
   "id": "similar-darwin",
   "metadata": {},
   "outputs": [
    {
     "data": {
      "text/plain": [
       "array([[19, 26, 18, 30, 25, 24],\n",
       "       [45, 42, 15, 24, 28, 18],\n",
       "       [45, 25, 17, 27, 42, 46],\n",
       "       [42, 17, 29, 26, 48, 21],\n",
       "       [22, 34, 14, 40, 13, 27],\n",
       "       [18, 47, 26, 20, 24, 44]])"
      ]
     },
     "execution_count": 60,
     "metadata": {},
     "output_type": "execute_result"
    }
   ],
   "source": [
    "random.randint(10,50,size=(6,6))"
   ]
  },
  {
   "cell_type": "markdown",
   "id": "greek-relief",
   "metadata": {},
   "source": [
    "---\n",
    "\n",
    "### Exercise 11:\n",
    "Slice a 2D NumPy array to extract a submatrix."
   ]
  },
  {
   "cell_type": "code",
   "execution_count": 64,
   "id": "becoming-surgery",
   "metadata": {},
   "outputs": [
    {
     "data": {
      "text/plain": [
       "array([1, 2, 3])"
      ]
     },
     "execution_count": 64,
     "metadata": {},
     "output_type": "execute_result"
    }
   ],
   "source": [
    "a=array([[1,2,3],[4,5,6]])\n",
    "b=a[0,]\n",
    "b"
   ]
  },
  {
   "cell_type": "markdown",
   "id": "national-cassette",
   "metadata": {},
   "source": [
    "---\n",
    "\n",
    "### Exercise 12:\n",
    "Calculate the sum of all elements in a NumPy array."
   ]
  },
  {
   "cell_type": "code",
   "execution_count": 68,
   "id": "ordered-murray",
   "metadata": {},
   "outputs": [
    {
     "data": {
      "text/plain": [
       "45"
      ]
     },
     "execution_count": 68,
     "metadata": {},
     "output_type": "execute_result"
    }
   ],
   "source": [
    "a=array([1,2,3,4,5,6,7,8,9,0])\n",
    "sum(a)\n"
   ]
  },
  {
   "cell_type": "markdown",
   "id": "prerequisite-chain",
   "metadata": {},
   "source": [
    "---\n",
    "\n",
    "### Exercise 13:\n",
    "Calculate the mean, median, and standard deviation of a NumPy array."
   ]
  },
  {
   "cell_type": "code",
   "execution_count": 77,
   "id": "settled-denmark",
   "metadata": {},
   "outputs": [
    {
     "data": {
      "text/plain": [
       "(3.5, 3.5, 1.707825127659933)"
      ]
     },
     "execution_count": 77,
     "metadata": {},
     "output_type": "execute_result"
    }
   ],
   "source": [
    "a=array([1,2,3,4,5,6])\n",
    "mean(a),median(a),std(a)\n",
    "\n"
   ]
  },
  {
   "cell_type": "markdown",
   "id": "decent-romance",
   "metadata": {},
   "source": [
    "---\n",
    "\n",
    "### Exercise 14:\n",
    "Find the maximum and minimum values in a NumPy array."
   ]
  },
  {
   "cell_type": "code",
   "execution_count": 81,
   "id": "major-tractor",
   "metadata": {},
   "outputs": [
    {
     "data": {
      "text/plain": [
       "(6, 1)"
      ]
     },
     "execution_count": 81,
     "metadata": {},
     "output_type": "execute_result"
    }
   ],
   "source": [
    "max(a),min(a)"
   ]
  },
  {
   "cell_type": "markdown",
   "id": "bound-challenge",
   "metadata": {},
   "source": [
    "---\n",
    "\n",
    "### Exercise 15:\n",
    "Create a NumPy array of 20 random integers and find the index of the maximum value."
   ]
  },
  {
   "cell_type": "code",
   "execution_count": 94,
   "id": "temporal-celebrity",
   "metadata": {},
   "outputs": [
    {
     "name": "stdout",
     "output_type": "stream",
     "text": [
      "[12  6  6  9 15  9 14  4  9  9 19  9  4  1 14 13  1 15 10 15]\n"
     ]
    }
   ],
   "source": [
    "a=random.randint(0,20,20)\n",
    "print(a)"
   ]
  },
  {
   "cell_type": "code",
   "execution_count": 95,
   "id": "higher-vocabulary",
   "metadata": {},
   "outputs": [
    {
     "data": {
      "text/plain": [
       "10"
      ]
     },
     "execution_count": 95,
     "metadata": {},
     "output_type": "execute_result"
    }
   ],
   "source": [
    "a.argmax()"
   ]
  },
  {
   "cell_type": "markdown",
   "id": "alleged-audience",
   "metadata": {},
   "source": [
    "---\n",
    "\n",
    "### Exercise 16:\n",
    "Create a NumPy array and reverse its elements."
   ]
  },
  {
   "cell_type": "code",
   "execution_count": 125,
   "id": "executed-contract",
   "metadata": {},
   "outputs": [
    {
     "data": {
      "text/plain": [
       "array([ 1,  3,  5,  7,  9, 11, 13, 15, 17, 19])"
      ]
     },
     "execution_count": 125,
     "metadata": {},
     "output_type": "execute_result"
    }
   ],
   "source": [
    "a=arange(1,20,2)\n",
    "a"
   ]
  },
  {
   "cell_type": "code",
   "execution_count": 126,
   "id": "wicked-pattern",
   "metadata": {},
   "outputs": [
    {
     "data": {
      "text/plain": [
       "array([19, 17, 15, 13, 11,  9,  7,  5,  3,  1])"
      ]
     },
     "execution_count": 126,
     "metadata": {},
     "output_type": "execute_result"
    }
   ],
   "source": [
    "flip(a)#reverse functions"
   ]
  },
  {
   "cell_type": "code",
   "execution_count": 136,
   "id": "incident-representative",
   "metadata": {},
   "outputs": [
    {
     "data": {
      "text/plain": [
       "array([[0.93598175, 0.76473399, 0.28122322, 0.73729041, 0.16032503,\n",
       "        0.68734243, 0.78678847],\n",
       "       [0.04897752, 0.94050859, 0.55082056, 0.73739633, 0.54595648,\n",
       "        0.96405086, 0.30784512],\n",
       "       [0.61123894, 0.920043  , 0.37884544, 0.15888158, 0.49872508,\n",
       "        0.73493424, 0.58490512],\n",
       "       [0.83959877, 0.64385312, 0.69277612, 0.84744268, 0.18493815,\n",
       "        0.24676202, 0.49740215],\n",
       "       [0.74022249, 0.64635671, 0.69175552, 0.06073312, 0.29761615,\n",
       "        0.04204213, 0.18589261],\n",
       "       [0.3521034 , 0.2792237 , 0.48460307, 0.85170558, 0.98083652,\n",
       "        0.40613886, 0.19004627],\n",
       "       [0.76573962, 0.67628484, 0.6666988 , 0.76816575, 0.60267456,\n",
       "        0.26296271, 0.12932136],\n",
       "       [0.63937811, 0.12696264, 0.13723344, 0.70856476, 0.04197341,\n",
       "        0.03593501, 0.58643879],\n",
       "       [0.1304916 , 0.45926029, 0.63385628, 0.28761794, 0.03695451,\n",
       "        0.33497956, 0.61470547],\n",
       "       [0.43675781, 0.15603293, 0.39119642, 0.98893364, 0.58982108,\n",
       "        0.84269701, 0.19621884]])"
      ]
     },
     "execution_count": 136,
     "metadata": {},
     "output_type": "execute_result"
    }
   ],
   "source": [
    "#help(random.rand)\n",
    "random.random((10, 7))"
   ]
  },
  {
   "cell_type": "code",
   "execution_count": 134,
   "id": "numeric-mexican",
   "metadata": {},
   "outputs": [
    {
     "name": "stdout",
     "output_type": "stream",
     "text": [
      "Help on built-in function random:\n",
      "\n",
      "random(...) method of numpy.random.mtrand.RandomState instance\n",
      "    random(size=None)\n",
      "    \n",
      "    Return random floats in the half-open interval [0.0, 1.0). Alias for\n",
      "    `random_sample` to ease forward-porting to the new random API.\n",
      "\n"
     ]
    }
   ],
   "source": [
    "help(random.random)"
   ]
  },
  {
   "cell_type": "markdown",
   "id": "pending-school",
   "metadata": {},
   "source": [
    "---\n",
    "\n",
    "### Exercise 17:\n",
    "Create a 3x3 matrix and multiply it element-wise by another 3x3 matrix."
   ]
  },
  {
   "cell_type": "code",
   "execution_count": 140,
   "id": "referenced-commitment",
   "metadata": {},
   "outputs": [
    {
     "name": "stdout",
     "output_type": "stream",
     "text": [
      "[[4 2 8]\n",
      " [4 6 5]\n",
      " [5 6 4]]\n",
      "\n",
      "\n",
      "[[12 10 15]\n",
      " [14 15 17]\n",
      " [12 16 11]]\n",
      "\n",
      "\n",
      "[[ 48  20 120]\n",
      " [ 56  90  85]\n",
      " [ 60  96  44]]\n"
     ]
    }
   ],
   "source": [
    "a=random.randint(1,9,(3,3))\n",
    "print(a)\n",
    "print('\\n')\n",
    "b=random.randint(9,18,(3,3))\n",
    "print(b)\n",
    "print('\\n')\n",
    "c=a*b\n",
    "print(c)"
   ]
  },
  {
   "cell_type": "markdown",
   "id": "interstate-dressing",
   "metadata": {},
   "source": [
    "---\n",
    "\n",
    "### Exercise 18:\n",
    "Create a diagonal matrix from a given 1D array."
   ]
  },
  {
   "cell_type": "code",
   "execution_count": 153,
   "id": "tracked-hollywood",
   "metadata": {},
   "outputs": [
    {
     "data": {
      "text/plain": [
       "array([[1, 0, 0, 0, 0, 0, 0, 0],\n",
       "       [0, 2, 0, 0, 0, 0, 0, 0],\n",
       "       [0, 0, 3, 0, 0, 0, 0, 0],\n",
       "       [0, 0, 0, 4, 0, 0, 0, 0],\n",
       "       [0, 0, 0, 0, 5, 0, 0, 0],\n",
       "       [0, 0, 0, 0, 0, 6, 0, 0],\n",
       "       [0, 0, 0, 0, 0, 0, 7, 0],\n",
       "       [0, 0, 0, 0, 0, 0, 0, 8]])"
      ]
     },
     "execution_count": 153,
     "metadata": {},
     "output_type": "execute_result"
    }
   ],
   "source": [
    "a=arange(1,9)\n",
    "diag(a)"
   ]
  },
  {
   "cell_type": "markdown",
   "id": "herbal-blocking",
   "metadata": {},
   "source": [
    "---\n",
    "\n",
    "### Exercise 19:\n",
    "Perform matrix multiplication on two 2D NumPy arrays."
   ]
  },
  {
   "cell_type": "code",
   "execution_count": 165,
   "id": "gentle-music",
   "metadata": {},
   "outputs": [
    {
     "name": "stdout",
     "output_type": "stream",
     "text": [
      "[[7 2 5 1 6]\n",
      " [3 1 5 7 3]]\n",
      "\n",
      "\n",
      "[[10 12 11 16 16]\n",
      " [15 16 13 11 17]]\n",
      "\n",
      "\n",
      "[[70 24 55 16 96]\n",
      " [45 16 65 77 51]]\n"
     ]
    }
   ],
   "source": [
    "a=random.randint(1,9,(2,5))\n",
    "print(a)\n",
    "print('\\n')\n",
    "b=random.randint(9,18,(2,5))\n",
    "print(b)\n",
    "print('\\n')\n",
    "c=b*a\n",
    "print(c)"
   ]
  },
  {
   "cell_type": "markdown",
   "id": "thermal-passport",
   "metadata": {},
   "source": [
    "---\n",
    "\n",
    "### Exercise 20:\n",
    "Flatten a 2D NumPy array into a 1D array."
   ]
  },
  {
   "cell_type": "code",
   "execution_count": 163,
   "id": "inside-carnival",
   "metadata": {},
   "outputs": [
    {
     "data": {
      "text/plain": [
       "array([[1, 5, 1, 6, 8],\n",
       "       [7, 7, 4, 3, 2]])"
      ]
     },
     "execution_count": 163,
     "metadata": {},
     "output_type": "execute_result"
    }
   ],
   "source": [
    "a=random.randint(1,9,(2,5))\n",
    "a"
   ]
  },
  {
   "cell_type": "code",
   "execution_count": 164,
   "id": "iraqi-summary",
   "metadata": {},
   "outputs": [
    {
     "data": {
      "text/plain": [
       "array([1, 5, 1, 6, 8, 7, 7, 4, 3, 2])"
      ]
     },
     "execution_count": 164,
     "metadata": {},
     "output_type": "execute_result"
    }
   ],
   "source": [
    "a.flatten()"
   ]
  },
  {
   "cell_type": "markdown",
   "id": "spiritual-ranch",
   "metadata": {},
   "source": [
    "---\n",
    "\n",
    "### Exercise 21:\n",
    "Stack two NumPy arrays vertically."
   ]
  },
  {
   "cell_type": "code",
   "execution_count": 173,
   "id": "activated-swaziland",
   "metadata": {},
   "outputs": [
    {
     "name": "stdout",
     "output_type": "stream",
     "text": [
      "[[3 4 1 2 2]]\n",
      "\n",
      "\n",
      "[[8 8 7 9 9]]\n",
      "\n",
      "\n"
     ]
    },
    {
     "data": {
      "text/plain": [
       "array([[3, 4, 1, 2, 2],\n",
       "       [8, 8, 7, 9, 9]])"
      ]
     },
     "execution_count": 173,
     "metadata": {},
     "output_type": "execute_result"
    }
   ],
   "source": [
    "a=random.randint(1,5,(1,5))\n",
    "print(a)\n",
    "print('\\n')\n",
    "b=random.randint(6,11,(1,5))\n",
    "print(b)\n",
    "print('\\n')\n",
    "vstack((a,b))"
   ]
  },
  {
   "cell_type": "markdown",
   "id": "injured-caution",
   "metadata": {},
   "source": [
    "---\n",
    "\n",
    "### Exercise 22:\n",
    "Stack two NumPy arrays horizontally."
   ]
  },
  {
   "cell_type": "code",
   "execution_count": 174,
   "id": "postal-taste",
   "metadata": {},
   "outputs": [
    {
     "name": "stdout",
     "output_type": "stream",
     "text": [
      "[[1 2 1 4 2]]\n",
      "\n",
      "\n",
      "[[7 8 7 9 9]]\n",
      "\n",
      "\n"
     ]
    },
    {
     "data": {
      "text/plain": [
       "array([[1, 2, 1, 4, 2, 7, 8, 7, 9, 9]])"
      ]
     },
     "execution_count": 174,
     "metadata": {},
     "output_type": "execute_result"
    }
   ],
   "source": [
    "a=random.randint(1,5,(1,5))\n",
    "print(a)\n",
    "print('\\n')\n",
    "b=random.randint(6,11,(1,5))\n",
    "print(b)\n",
    "print('\\n')\n",
    "hstack((a,b))"
   ]
  },
  {
   "cell_type": "markdown",
   "id": "christian-scout",
   "metadata": {},
   "source": [
    "---\n",
    "\n",
    "### Exercise 23:\n",
    "Split a NumPy array into multiple sub-arrays."
   ]
  },
  {
   "cell_type": "code",
   "execution_count": 183,
   "id": "ranging-right",
   "metadata": {},
   "outputs": [
    {
     "data": {
      "text/plain": [
       "[array([[4, 4, 7, 3, 9, 4, 8, 3],\n",
       "        [4, 1, 9, 7, 7, 7, 4, 4],\n",
       "        [5, 3, 3, 1, 5, 5, 9, 9],\n",
       "        [2, 7, 8, 2, 7, 2, 9, 9]]),\n",
       " array([[4, 2, 8, 3, 4, 4, 4, 5],\n",
       "        [2, 6, 1, 5, 6, 8, 5, 2],\n",
       "        [3, 8, 2, 5, 1, 3, 7, 5],\n",
       "        [6, 2, 3, 8, 2, 5, 6, 9]])]"
      ]
     },
     "execution_count": 183,
     "metadata": {},
     "output_type": "execute_result"
    }
   ],
   "source": [
    "a=random.randint(1,10,(8,8))\n",
    "split(a,2)"
   ]
  },
  {
   "cell_type": "markdown",
   "id": "thorough-exploration",
   "metadata": {},
   "source": [
    "---\n",
    "\n",
    "### Exercise 24:\n",
    "Generate a random NumPy array and round each element to two decimal places."
   ]
  },
  {
   "cell_type": "code",
   "execution_count": 201,
   "id": "fitting-lingerie",
   "metadata": {},
   "outputs": [
    {
     "data": {
      "text/plain": [
       "array([[0.38, 0.52, 0.52, 0.1 , 0.27]])"
      ]
     },
     "execution_count": 201,
     "metadata": {},
     "output_type": "execute_result"
    }
   ],
   "source": [
    "import numpy as np\n",
    "a=random.random((1,5))\n",
    "a\n",
    "np.round(a,2)\n"
   ]
  },
  {
   "cell_type": "markdown",
   "id": "urban-coffee",
   "metadata": {},
   "source": [
    "---\n",
    "\n",
    "### Exercise 25:\n",
    "Find the unique elements of a NumPy array."
   ]
  },
  {
   "cell_type": "code",
   "execution_count": 203,
   "id": "employed-repeat",
   "metadata": {},
   "outputs": [
    {
     "name": "stdout",
     "output_type": "stream",
     "text": [
      "[[1 8 5 5 5 8 9 2]\n",
      " [7 9 9 4 5 7 1 3]\n",
      " [3 8 7 3 4 6 3 7]\n",
      " [6 6 6 9 3 7 8 6]\n",
      " [8 9 3 8 5 4 5 6]\n",
      " [4 8 3 7 2 7 7 2]\n",
      " [5 8 2 3 3 3 6 3]\n",
      " [5 9 6 3 5 6 3 6]]\n",
      "\n",
      "\n"
     ]
    },
    {
     "data": {
      "text/plain": [
       "array([1, 2, 3, 4, 5, 6, 7, 8, 9])"
      ]
     },
     "execution_count": 203,
     "metadata": {},
     "output_type": "execute_result"
    }
   ],
   "source": [
    "a=random.randint(1,10,(8,8))\n",
    "print(a)\n",
    "print('\\n')\n",
    "unique(a)"
   ]
  },
  {
   "cell_type": "markdown",
   "id": "better-bahrain",
   "metadata": {},
   "source": [
    "---\n",
    "\n",
    "### Exercise 26:\n",
    "Replace all elements in a NumPy array that are less than a specific value with that value."
   ]
  },
  {
   "cell_type": "code",
   "execution_count": 204,
   "id": "broken-occasions",
   "metadata": {},
   "outputs": [
    {
     "name": "stdout",
     "output_type": "stream",
     "text": [
      "[[3 3 8 8 9 3 3 6]\n",
      " [1 5 6 3 9 9 1 9]\n",
      " [5 6 3 1 6 7 2 7]\n",
      " [3 3 5 6 4 6 4 7]\n",
      " [5 7 2 2 7 6 1 3]\n",
      " [6 3 5 1 9 4 3 5]\n",
      " [4 5 1 4 8 9 2 5]\n",
      " [3 7 6 6 5 7 7 3]]\n",
      "\n",
      "\n",
      "[[8 8 8 8 9 8 8 8]\n",
      " [8 8 8 8 9 9 8 9]\n",
      " [8 8 8 8 8 8 8 8]\n",
      " [8 8 8 8 8 8 8 8]\n",
      " [8 8 8 8 8 8 8 8]\n",
      " [8 8 8 8 9 8 8 8]\n",
      " [8 8 8 8 8 9 8 8]\n",
      " [8 8 8 8 8 8 8 8]]\n"
     ]
    }
   ],
   "source": [
    "a=random.randint(1,10,(8,8))\n",
    "print(a)\n",
    "print('\\n')\n",
    "\n",
    "a[a<=8]=8\n",
    "b=a\n",
    "print(b)"
   ]
  },
  {
   "cell_type": "markdown",
   "id": "current-culture",
   "metadata": {},
   "source": [
    "---\n",
    "\n",
    "### Exercise 27:\n",
    "Find the cumulative sum of the elements in a NumPy array."
   ]
  },
  {
   "cell_type": "code",
   "execution_count": 205,
   "id": "earlier-entity",
   "metadata": {},
   "outputs": [
    {
     "name": "stdout",
     "output_type": "stream",
     "text": [
      "[[3 2 7 7 1 4 8 7]\n",
      " [1 1 1 3 3 7 2 6]\n",
      " [3 8 2 7 7 7 1 9]\n",
      " [3 2 7 3 2 3 4 6]\n",
      " [6 8 8 3 8 5 6 5]\n",
      " [4 2 9 6 5 5 6 8]\n",
      " [7 5 6 1 1 9 4 8]\n",
      " [8 7 3 3 3 7 8 2]]\n",
      "\n",
      "\n"
     ]
    },
    {
     "data": {
      "text/plain": [
       "array([  3,   5,  12,  19,  20,  24,  32,  39,  40,  41,  42,  45,  48,\n",
       "        55,  57,  63,  66,  74,  76,  83,  90,  97,  98, 107, 110, 112,\n",
       "       119, 122, 124, 127, 131, 137, 143, 151, 159, 162, 170, 175, 181,\n",
       "       186, 190, 192, 201, 207, 212, 217, 223, 231, 238, 243, 249, 250,\n",
       "       251, 260, 264, 272, 280, 287, 290, 293, 296, 303, 311, 313])"
      ]
     },
     "execution_count": 205,
     "metadata": {},
     "output_type": "execute_result"
    }
   ],
   "source": [
    "a=random.randint(1,10,(8,8))\n",
    "print(a)\n",
    "print('\\n')\n",
    "cumsum(a)"
   ]
  },
  {
   "cell_type": "markdown",
   "id": "ultimate-south",
   "metadata": {},
   "source": [
    "---\n",
    "\n",
    "### Exercise 28:\n",
    "Create a NumPy array and find the number of non-zero elements in it."
   ]
  },
  {
   "cell_type": "code",
   "execution_count": 215,
   "id": "eastern-conjunction",
   "metadata": {},
   "outputs": [
    {
     "name": "stdout",
     "output_type": "stream",
     "text": [
      "[[[1 2 3 4]\n",
      "  [1 0 2 3]\n",
      "  [4 5 6 7]]]\n",
      "\n",
      "\n"
     ]
    },
    {
     "data": {
      "text/plain": [
       "11"
      ]
     },
     "execution_count": 215,
     "metadata": {},
     "output_type": "execute_result"
    }
   ],
   "source": [
    "a=array([[[1,2,3,4],[1,0,2,3,],[4,5,6,7]]])\n",
    "print(a)\n",
    "print('\\n')\n",
    "count_nonzero(a)"
   ]
  },
  {
   "cell_type": "markdown",
   "id": "occupational-ranch",
   "metadata": {},
   "source": [
    "---\n",
    "\n",
    "### Exercise 29:\n",
    "Create a NumPy array of random integers and sort it in ascending order."
   ]
  },
  {
   "cell_type": "code",
   "execution_count": 217,
   "id": "under-burner",
   "metadata": {},
   "outputs": [
    {
     "name": "stdout",
     "output_type": "stream",
     "text": [
      "[[ 6  7  5  5]\n",
      " [11  8 10  8]\n",
      " [ 1  4  2 14]\n",
      " [ 2  2 11  9]]\n",
      "/n\n"
     ]
    },
    {
     "data": {
      "text/plain": [
       "array([[ 5,  5,  6,  7],\n",
       "       [ 8,  8, 10, 11],\n",
       "       [ 1,  2,  4, 14],\n",
       "       [ 2,  2,  9, 11]])"
      ]
     },
     "execution_count": 217,
     "metadata": {},
     "output_type": "execute_result"
    }
   ],
   "source": [
    "a=random.randint(1,17,(4,4))\n",
    "print(a)\n",
    "print('/n')\n",
    "sort(a)\n"
   ]
  },
  {
   "cell_type": "markdown",
   "id": "eastern-labor",
   "metadata": {},
   "source": [
    "---\n",
    "\n",
    "### Exercise 30:\n",
    "Find the row-wise and column-wise sum of a 3x3 matrix."
   ]
  },
  {
   "cell_type": "code",
   "execution_count": 219,
   "id": "median-contrary",
   "metadata": {},
   "outputs": [
    {
     "name": "stdout",
     "output_type": "stream",
     "text": [
      "[[ 7 14  4]\n",
      " [15  2  7]\n",
      " [ 6 11  6]]\n",
      "\n",
      "\n",
      "[28 27 17]\n",
      "\n",
      "\n",
      "[25 24 23]\n"
     ]
    }
   ],
   "source": [
    "a=random.randint(1,16,(3,3))\n",
    "print(a)\n",
    "print('\\n')\n",
    "#column wise\n",
    "b=sum(a, axis=0)\n",
    "print(b)\n",
    "print('\\n')\n",
    "#row wise\n",
    "c=sum(a, axis=1)\n",
    "print(c)\n"
   ]
  },
  {
   "cell_type": "markdown",
   "id": "cognitive-president",
   "metadata": {},
   "source": [
    "---\n",
    "\n",
    "### Exercise 31:\n",
    "Generate a 2D NumPy array with random values and normalize it (scale the values between 0 and 1)."
   ]
  },
  {
   "cell_type": "code",
   "execution_count": 229,
   "id": "alpine-williams",
   "metadata": {},
   "outputs": [
    {
     "name": "stdout",
     "output_type": "stream",
     "text": [
      "[[4 5]\n",
      " [2 8]]\n",
      "\n",
      "\n",
      "2\n",
      "\n",
      "\n",
      "8\n",
      "\n",
      "\n",
      "[[0.33333333 0.5       ]\n",
      " [0.         1.        ]]\n"
     ]
    }
   ],
   "source": [
    "import numpy as np\n",
    "a=np.random.randint(1,9,(2,2))\n",
    "print(a)\n",
    "print('\\n')\n",
    "\n",
    "b=np.min(a)\n",
    "print(b)\n",
    "print('\\n')\n",
    "\n",
    "c=np.max(a)\n",
    "print(c)\n",
    "print('\\n')\n",
    "\n",
    "\n",
    "d=(a-b)/(c-b)\n",
    "print(d)\n",
    "\n"
   ]
  },
  {
   "cell_type": "markdown",
   "id": "adverse-bangkok",
   "metadata": {},
   "source": [
    "---\n",
    "\n",
    "### Exercise 32:\n",
    "Create two NumPy arrays and find the dot product."
   ]
  },
  {
   "cell_type": "code",
   "execution_count": 235,
   "id": "fantastic-edgar",
   "metadata": {},
   "outputs": [
    {
     "name": "stdout",
     "output_type": "stream",
     "text": [
      "[2 2 4]\n",
      "\n",
      "\n",
      "[4 4 8]\n",
      "\n",
      "\n"
     ]
    },
    {
     "data": {
      "text/plain": [
       "48"
      ]
     },
     "execution_count": 235,
     "metadata": {},
     "output_type": "execute_result"
    }
   ],
   "source": [
    "a=array([2,2,4])\n",
    "print(a)\n",
    "print('\\n')\n",
    "         \n",
    "b=array([4,4,8])\n",
    "print(b)\n",
    "print('\\n')\n",
    "\n",
    "dot(a,b)\n"
   ]
  },
  {
   "cell_type": "markdown",
   "id": "forty-starter",
   "metadata": {},
   "source": [
    "---\n",
    "\n",
    "### Exercise 33:\n",
    "Find the trace of a square NumPy matrix."
   ]
  },
  {
   "cell_type": "code",
   "execution_count": 244,
   "id": "understanding-redhead",
   "metadata": {},
   "outputs": [
    {
     "name": "stdout",
     "output_type": "stream",
     "text": [
      "[[6 4]\n",
      " [4 4]]\n",
      "\n",
      "\n"
     ]
    },
    {
     "data": {
      "text/plain": [
       "10"
      ]
     },
     "execution_count": 244,
     "metadata": {},
     "output_type": "execute_result"
    }
   ],
   "source": [
    "a=random.randint(1,9,(2,2))\n",
    "print(a)\n",
    "print('\\n')\n",
    "trace(a)"
   ]
  },
  {
   "cell_type": "markdown",
   "id": "stock-guidance",
   "metadata": {},
   "source": [
    "---\n",
    "\n",
    "### Exercise 34:\n",
    "Create a 2D array and swap two rows."
   ]
  },
  {
   "cell_type": "code",
   "execution_count": 248,
   "id": "finished-material",
   "metadata": {},
   "outputs": [
    {
     "name": "stdout",
     "output_type": "stream",
     "text": [
      "[[4 5 4]\n",
      " [7 1 6]\n",
      " [7 5 2]]\n",
      "\n",
      "\n",
      "[[7 5 2]\n",
      " [7 1 6]\n",
      " [4 5 4]]\n"
     ]
    }
   ],
   "source": [
    "a=random.randint(1,10,(3,3))\n",
    "print(a)\n",
    "print('\\n')\n",
    "a[[2,0]]=a[[0,2]]\n",
    "print(a)\n",
    "\n"
   ]
  },
  {
   "cell_type": "markdown",
   "id": "extreme-police",
   "metadata": {},
   "source": [
    "---\n",
    "\n",
    "### Exercise 35:\n",
    "Create a 1D NumPy array and convert it into a column vector."
   ]
  },
  {
   "cell_type": "code",
   "execution_count": 254,
   "id": "compatible-psychiatry",
   "metadata": {},
   "outputs": [
    {
     "name": "stdout",
     "output_type": "stream",
     "text": [
      "[6 9 7 3 3 3 1 9]\n",
      "\n",
      "\n"
     ]
    },
    {
     "data": {
      "text/plain": [
       "array([[6],\n",
       "       [9],\n",
       "       [7],\n",
       "       [3],\n",
       "       [3],\n",
       "       [3],\n",
       "       [1],\n",
       "       [9]])"
      ]
     },
     "execution_count": 254,
     "metadata": {},
     "output_type": "execute_result"
    }
   ],
   "source": [
    "a=random.randint(1,10,8)\n",
    "print(a)\n",
    "print('\\n')\n",
    "a.reshape(-1,1)"
   ]
  },
  {
   "cell_type": "markdown",
   "id": "characteristic-jackson",
   "metadata": {},
   "source": [
    "---\n",
    "\n",
    "### Exercise 36:\n",
    "Find the determinant of a 3x3 matrix."
   ]
  },
  {
   "cell_type": "code",
   "execution_count": 256,
   "id": "olympic-projector",
   "metadata": {},
   "outputs": [
    {
     "name": "stdout",
     "output_type": "stream",
     "text": [
      "[[13 13 13]\n",
      " [ 2  3 13]\n",
      " [ 5 10  1]]\n",
      "\n",
      "\n"
     ]
    },
    {
     "data": {
      "text/plain": [
       "-766.9999999999999"
      ]
     },
     "execution_count": 256,
     "metadata": {},
     "output_type": "execute_result"
    }
   ],
   "source": [
    "a=random.randint(1,16,(3,3))\n",
    "print(a)\n",
    "print('\\n')\n",
    "linalg.det(a)\n"
   ]
  },
  {
   "cell_type": "markdown",
   "id": "impaired-composite",
   "metadata": {},
   "source": [
    "--\n",
    "\n",
    "### Exercise 37:\n",
    "Find the eigenvalues and eigenvectors of a 2x2 matrix."
   ]
  },
  {
   "cell_type": "code",
   "execution_count": 261,
   "id": "danish-miracle",
   "metadata": {},
   "outputs": [
    {
     "name": "stdout",
     "output_type": "stream",
     "text": [
      "[[16  7]\n",
      " [ 7  7]]\n",
      "\n",
      "\n",
      "(array([19.82165849,  3.17834151]), array([[ 0.87771225, -0.47918807],\n",
      "       [ 0.47918807,  0.87771225]]))\n"
     ]
    }
   ],
   "source": [
    "a=random.randint(1,17,(2,2))\n",
    "print(a)\n",
    "print('\\n')\n",
    "\n",
    "e=linalg.eig(a)# prints first the eigenvalues and then eigenvectors\n",
    "print(e)\n",
    "\n",
    "\n",
    "\n",
    "\n"
   ]
  },
  {
   "cell_type": "markdown",
   "id": "stopped-arthur",
   "metadata": {},
   "source": [
    "---\n",
    "\n",
    "### Exercise 38:\n",
    "Solve a system of linear equations using NumPy."
   ]
  },
  {
   "cell_type": "code",
   "execution_count": 267,
   "id": "persistent-colon",
   "metadata": {},
   "outputs": [
    {
     "data": {
      "text/plain": [
       "array([3.33333333, 0.44444444])"
      ]
     },
     "execution_count": 267,
     "metadata": {},
     "output_type": "execute_result"
    }
   ],
   "source": [
    "a=array([[1,6],[2,3]])\n",
    "b=array([6,8])\n",
    "linalg.solve(a,b)"
   ]
  },
  {
   "cell_type": "markdown",
   "id": "boolean-daisy",
   "metadata": {},
   "source": [
    "---\n",
    "\n",
    "### Exercise 39:\n",
    "Add Gaussian noise to a NumPy array."
   ]
  },
  {
   "cell_type": "code",
   "execution_count": 270,
   "id": "rubber-bridges",
   "metadata": {},
   "outputs": [
    {
     "name": "stdout",
     "output_type": "stream",
     "text": [
      "[1 7 2 6 8 7 3 2 2]\n",
      "\n",
      "\n",
      "4.222222222222222\n",
      "\n",
      "\n",
      "2.57240820062005\n",
      "\n",
      "\n",
      "[7.29424985 1.32701098 0.60253033 5.76692677 7.63624717 5.99640088\n",
      " 3.09114027 6.08212952 5.06353979]\n",
      "\n",
      "\n",
      "[ 8.29424985  8.32701098  2.60253033 11.76692677 15.63624717 12.99640088\n",
      "  6.09114027  8.08212952  7.06353979]\n"
     ]
    }
   ],
   "source": [
    "a=random.randint(1,9,9)\n",
    "print(a)\n",
    "print('\\n')\n",
    "\n",
    "b=mean(a)\n",
    "print(b)\n",
    "print('\\n')\n",
    "\n",
    "c=std(a)\n",
    "print(c)\n",
    "print('\\n')\n",
    "\n",
    "d=random.normal(b, c, a.shape)\n",
    "print(d)\n",
    "print('\\n')\n",
    "\n",
    "e=a+d\n",
    "print(e)"
   ]
  },
  {
   "cell_type": "markdown",
   "id": "junior-leeds",
   "metadata": {},
   "source": [
    "---\n",
    "\n",
    "### Exercise 40:\n",
    "Create a 4x4 matrix and extract the diagonal elements."
   ]
  },
  {
   "cell_type": "code",
   "execution_count": 273,
   "id": "married-portsmouth",
   "metadata": {},
   "outputs": [
    {
     "name": "stdout",
     "output_type": "stream",
     "text": [
      "[[ 8 17 11 20]\n",
      " [10 16  1 17]\n",
      " [ 5  5 13 12]\n",
      " [17 16 10  8]]\n",
      "\n",
      "\n"
     ]
    },
    {
     "data": {
      "text/plain": [
       "array([ 8, 16, 13,  8])"
      ]
     },
     "execution_count": 273,
     "metadata": {},
     "output_type": "execute_result"
    }
   ],
   "source": [
    "a=random.randint(1,21,(4,4))\n",
    "print(a)\n",
    "print('\\n')\n",
    "diagonal(a)"
   ]
  },
  {
   "cell_type": "markdown",
   "id": "9a78d71c",
   "metadata": {},
   "source": [
    "---\n",
    "\n",
    "### Exercise 41:\n",
    "Generate a NumPy array of 100 random values and clip the values to a range between 10 and 50.\n",
    "\n",
    "```python\n",
    "# Exercise 41\n",
    "```\n",
    "\n",
    "---\n",
    "\n",
    "### Exercise 42:\n",
    "Create a 2D NumPy array and replace all negative values with zero.\n",
    "\n",
    "```python\n",
    "# Exercise 42\n",
    "```\n",
    "\n",
    "---\n",
    "\n",
    "### Exercise 43:\n",
    "Find the inner and outer products of two NumPy arrays.\n",
    "\n",
    "```python\n",
    "# Exercise 43\n",
    "```\n",
    "\n",
    "---\n",
    "\n",
    "### Exercise 44:\n",
    "Calculate the pairwise distances between points in a NumPy array.\n",
    "\n",
    "```python\n",
    "# Exercise 44\n",
    "```\n",
    "\n",
    "---\n",
    "\n",
    "### Exercise 45:\n",
    "Create a structured NumPy array with fields for `name`, `age`, and `height`.\n",
    "\n",
    "```python\n",
    "# Exercise 45\n",
    "```\n",
    "\n",
    "---\n",
    "\n",
    "### Exercise 46:\n",
    "Create a 5x5 matrix of random integers and count the occurrences of each unique value.\n",
    "\n",
    "```python\n",
    "# Exercise 46\n",
    "```\n",
    "\n",
    "---\n",
    "\n",
    "### Exercise 47:\n",
    "Generate a random 3x3 NumPy array and subtract the mean of each row from the corresponding row.\n",
    "\n",
    "```python\n",
    "# Exercise 47\n",
    "```\n",
    "\n",
    "---\n",
    "\n",
    "### Exercise 48:\n",
    "Create a NumPy array of random integers and check if any of the values are greater than 50.\n",
    "\n",
    "```python\n",
    "# Exercise 48\n",
    "```\n",
    "\n",
    "---\n",
    "\n",
    "### Exercise 49:\n",
    "Calculate the moving average of a 1D NumPy array.\n",
    "\n",
    "```python\n",
    "# Exercise 49\n",
    "```\n",
    "\n",
    "---\n",
    "\n",
    "### Exercise 50:\n",
    "Find the Pearson correlation coefficient between two NumPy arrays.\n",
    "\n",
    "```python\n",
    "# Exercise 50\n",
    "```\n",
    "\n",
    "---\n",
    "\n",
    "### Exercise 51:\n",
    "Convert a NumPy array of radians to degrees.\n",
    "\n",
    "```python\n",
    "# Exercise 51\n",
    "```\n",
    "\n",
    "---\n",
    "\n",
    "### Exercise 52:\n",
    "Create a random NumPy array and compute its variance and standard deviation.\n",
    "\n",
    "```python\n",
    "# Exercise 52\n",
    "```\n",
    "\n",
    "---\n",
    "\n",
    "### Exercise 53:\n",
    "Create a 2D NumPy array and find the indices of the maximum values along each axis.\n",
    "\n",
    "```python\n",
    "# Exercise 53\n",
    "```\n",
    "\n",
    "---\n",
    "\n",
    "### Exercise 54:\n",
    "Compute the inverse of a 2x2 NumPy matrix.\n",
    "\n",
    "```python\n",
    "# Exercise 54\n",
    "```\n",
    "\n",
    "---\n",
    "\n",
    "### Exercise 55:\n",
    "Create a NumPy array of 10 random values and standardize it (mean 0, variance 1).\n",
    "\n",
    "```python\n",
    "# Exercise 55\n",
    "```\n",
    "\n",
    "---\n",
    "\n",
    "### Exercise 56:\n",
    "Perform element-wise addition and subtraction on two NumPy arrays.\n",
    "\n",
    "```python\n",
    "# Exercise 56\n",
    "```\n",
    "\n",
    "---\n",
    "\n",
    "### Exercise 57:\n",
    "Create a NumPy array of random values and find the maximum element's index.\n",
    "\n",
    "```python\n",
    "# Exercise 57\n",
    "```\n",
    "\n",
    "---\n",
    "\n",
    "### Exercise 58:\n",
    "Create a 3x3 NumPy array and rotate it by 90 degrees.\n",
    "\n",
    "```python\n",
    "# Exercise 58\n",
    "```\n",
    "\n",
    "---\n",
    "\n",
    "### Exercise 59:\n",
    "Compute the Frobenius norm of a matrix.\n",
    "\n",
    "```python\n",
    "# Exercise 59\n",
    "```\n",
    "\n",
    "---\n",
    "\n",
    "### Exercise 60:\n",
    "Create a 3D NumPy array and slice out a subarray.\n",
    "\n",
    "```python\n",
    "# Exercise 60\n",
    "```\n",
    "\n",
    "---"
   ]
  },
  {
   "cell_type": "markdown",
   "id": "guided-singer",
   "metadata": {},
   "source": []
  },
  {
   "cell_type": "code",
   "execution_count": null,
   "id": "opening-bermuda",
   "metadata": {},
   "outputs": [],
   "source": []
  }
 ],
 "metadata": {
  "kernelspec": {
   "display_name": "Python 3",
   "language": "python",
   "name": "python3"
  },
  "language_info": {
   "codemirror_mode": {
    "name": "ipython",
    "version": 3
   },
   "file_extension": ".py",
   "mimetype": "text/x-python",
   "name": "python",
   "nbconvert_exporter": "python",
   "pygments_lexer": "ipython3",
   "version": "3.9.2"
  }
 },
 "nbformat": 4,
 "nbformat_minor": 5
}
