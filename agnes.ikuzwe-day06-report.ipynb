{
 "cells": [
  {
   "cell_type": "markdown",
   "id": "visible-neutral",
   "metadata": {},
   "source": [
    "# Question 1"
   ]
  },
  {
   "cell_type": "code",
   "execution_count": 22,
   "id": "bibliographic-rocket",
   "metadata": {},
   "outputs": [
    {
     "name": "stdout",
     "output_type": "stream",
     "text": [
      "enter the number n:7\n",
      "18\n"
     ]
    }
   ],
   "source": [
    "counter = int(input(\"enter the number n:\"))\n",
    "summ = 0\n",
    "for i in range(counter):\n",
    "    if i%2!=0:\n",
    "        summ=summ+i+3\n",
    "print(summ)\n",
    "        "
   ]
  },
  {
   "cell_type": "code",
   "execution_count": 35,
   "id": "nonprofit-latest",
   "metadata": {},
   "outputs": [
    {
     "name": "stdout",
     "output_type": "stream",
     "text": [
      "enter the number n:4\n",
      "15\n"
     ]
    }
   ],
   "source": [
    "counter = int(input(\"enter the number n:\"))\n",
    "summ = 3\n",
    "for i in range(1,counter):\n",
    "    if i%2==0:\n",
    "        summ=summ*(i+3)\n",
    "print(summ)"
   ]
  },
  {
   "cell_type": "markdown",
   "id": "suspected-dance",
   "metadata": {},
   "source": [
    "# Question 2"
   ]
  },
  {
   "cell_type": "code",
   "execution_count": 48,
   "id": "duplicate-amber",
   "metadata": {},
   "outputs": [
    {
     "name": "stdout",
     "output_type": "stream",
     "text": [
      "enter the number of the day:2\n",
      "Wednesday\n"
     ]
    }
   ],
   "source": [
    "day = int(input(\"enter the number of the day:\"))\n",
    "a=['Monday','Tuesday','Wednesday','Thursday','Friday','Saturday','Sunday']\n",
    "if 0<=day<=4:\n",
    "    print(a[day])\n",
    "elif day==5 or day==6:\n",
    "    print(\"it is weekend\")\n",
    "    \n"
   ]
  },
  {
   "cell_type": "markdown",
   "id": "undefined-transportation",
   "metadata": {},
   "source": [
    "# Question 3"
   ]
  },
  {
   "cell_type": "code",
   "execution_count": 86,
   "id": "tropical-hotel",
   "metadata": {},
   "outputs": [
    {
     "name": "stdout",
     "output_type": "stream",
     "text": [
      " enter the month number:1\n",
      "this month has 28 days\n"
     ]
    }
   ],
   "source": [
    "month=int(input(\" enter the month number:\"))#for month in range(month):\n",
    "b=['January','February','March','April','May', 'June', 'July', 'August', 'September',\n",
    "   'October', 'November','December']\n",
    "if 0<=month <=11:\n",
    "    if month==10 or month==3 or month==5 or month==8:\n",
    "        print(\"this month has 30 days\")\n",
    "    elif month==0 or month==2 or month==4 or month==6 or month==9:\n",
    "        print(\"it has 31 days\")\n",
    "    else:\n",
    "        print(\"this month has 28 days\")\n",
    "else:\n",
    "    print(\"wrong input\")\n"
   ]
  },
  {
   "cell_type": "markdown",
   "id": "important-progressive",
   "metadata": {},
   "source": [
    "# Question 4"
   ]
  },
  {
   "cell_type": "code",
   "execution_count": 79,
   "id": "registered-romantic",
   "metadata": {},
   "outputs": [
    {
     "name": "stdout",
     "output_type": "stream",
     "text": [
      "Enter your name :bjbj\n",
      "bjbj\n",
      "bjbj\n",
      "bjbj\n"
     ]
    }
   ],
   "source": [
    "name=input(\"Enter your name :\")\n",
    "for i in range(3):   \n",
    "    print(name) \n",
    "\n",
    "\n"
   ]
  },
  {
   "cell_type": "markdown",
   "id": "coastal-wildlife",
   "metadata": {},
   "source": [
    "# Question 5"
   ]
  },
  {
   "cell_type": "code",
   "execution_count": 81,
   "id": "jewish-certification",
   "metadata": {},
   "outputs": [
    {
     "name": "stdout",
     "output_type": "stream",
     "text": [
      "enter the first number5\n",
      "enter the second number6\n",
      "5\n",
      "6\n",
      "11\n",
      "17\n",
      "28\n",
      "45\n",
      "73\n",
      "118\n",
      "191\n",
      "309\n",
      "500\n",
      "809\n",
      "1309\n",
      "2118\n",
      "3427\n"
     ]
    }
   ],
   "source": [
    "a_0=int(input(\"enter the first number\"))\n",
    "a_1=int(input(\"enter the second number\"))\n",
    "print(a_0)\n",
    "for i in range(14):\n",
    "    a_n=a_0+a_1\n",
    "    a_0=a_1\n",
    "    a_1=a_n\n",
    "    print(a_0)"
   ]
  },
  {
   "cell_type": "code",
   "execution_count": 87,
   "id": "angry-civilization",
   "metadata": {},
   "outputs": [
    {
     "name": "stdout",
     "output_type": "stream",
     "text": [
      "Enter the first number: 4\n",
      "Enter the second number: 5\n",
      "4\n",
      "5\n",
      "9\n",
      "14\n",
      "23\n",
      "37\n",
      "60\n",
      "97\n",
      "157\n",
      "254\n",
      "411\n",
      "665\n",
      "1076\n",
      "1741\n",
      "2817\n"
     ]
    }
   ],
   "source": [
    "a_0 = int(input(\"Enter the first number: \"))\n",
    "a_1 = int(input(\"Enter the second number: \"))\n",
    "print(a_0)\n",
    "i = 0\n",
    "while i < 14:\n",
    "    a_n = a_0 + a_1\n",
    "    a_0 = a_1\n",
    "    a_1 = a_n\n",
    "    print(a_0)\n",
    "    i += 1\n"
   ]
  },
  {
   "cell_type": "markdown",
   "id": "impressive-swing",
   "metadata": {},
   "source": [
    "# Question 6"
   ]
  },
  {
   "cell_type": "code",
   "execution_count": 96,
   "id": "executed-publicity",
   "metadata": {},
   "outputs": [
    {
     "name": "stdout",
     "output_type": "stream",
     "text": [
      "enter the first number3\n",
      "enter the second number4\n",
      "3\n",
      "4\n",
      "11.0\n",
      "17.5\n",
      "41.75\n",
      "73.375\n",
      "161.9375\n",
      "301.09375\n",
      "636.359375\n",
      "1221.4609375\n",
      "2519.80859375\n",
      "4924.287109375\n",
      "10021.5693359375\n",
      "19783.64599609375\n",
      "39956.531005859375\n",
      "79329.20349121094\n",
      "159534.1947631836\n",
      "317754.7078552246\n",
      "637479.9382171631\n",
      "1272004.0926742554\n",
      "2548441.860988617\n",
      "5090233.208517075\n",
      "10190442.187224388\n",
      "20365920.719163418\n",
      "40754286.92125487\n",
      "81474905.61811769\n",
      "163000313.57282346\n",
      "325924873.64076483\n",
      "651963377.5388528\n",
      "1303756309.691721\n"
     ]
    }
   ],
   "source": [
    "a_0=int(input(\"enter the first number\"))\n",
    "a_1=int(input(\"enter the second number\"))\n",
    "print(a_0)\n",
    "for i in range(29):\n",
    "    a_n=3*(a_0)+(a_1)/(2)\n",
    "    a_0=a_1\n",
    "    a_1=a_n\n",
    "    print(a_0)"
   ]
  },
  {
   "cell_type": "markdown",
   "id": "boring-knight",
   "metadata": {},
   "source": [
    "# Question 7"
   ]
  },
  {
   "cell_type": "code",
   "execution_count": 95,
   "id": "pregnant-hundred",
   "metadata": {},
   "outputs": [
    {
     "name": "stdout",
     "output_type": "stream",
     "text": [
      "enter the year2001\n",
      "this is not a leap year\n"
     ]
    }
   ],
   "source": [
    "a=int(input(\"enter the year\"))\n",
    "if(a%4==0 and a%100!=0) or(a%400==0):\n",
    "    print(\"this is a leap year\")\n",
    "else:\n",
    "    print(\"this is not a leap year\")"
   ]
  },
  {
   "cell_type": "code",
   "execution_count": 98,
   "id": "minus-pontiac",
   "metadata": {},
   "outputs": [
    {
     "name": "stdout",
     "output_type": "stream",
     "text": [
      "Enter the year:2002\n",
      "This is not a leap year.\n"
     ]
    }
   ],
   "source": [
    "a=int(input(\"Enter the year:\"))\n",
    "is_a=(a % 4==0 and a % 100 != 0) or (a % 400 == 0)\n",
    "print(\"This is a leap year.\" * is_a + \"This is not a leap year.\" * (not is_a))\n"
   ]
  },
  {
   "cell_type": "markdown",
   "id": "devoted-scratch",
   "metadata": {},
   "source": [
    "# Question 8"
   ]
  },
  {
   "cell_type": "code",
   "execution_count": 101,
   "id": "cardiovascular-error",
   "metadata": {},
   "outputs": [
    {
     "name": "stdout",
     "output_type": "stream",
     "text": [
      "Enter a positive integer:34\n",
      "The sum of the squares of the first 34 natural numbers is 13685.\n"
     ]
    }
   ],
   "source": [
    "n=int(input(\"Enter a positive integer:\"))\n",
    "sum_square=0\n",
    "for i in range(1, n + 1):\n",
    "    sum_square +=i ** 2\n",
    "print(f\"The sum of the squares of the first {n} natural numbers is {sum_square}.\")\n"
   ]
  },
  {
   "cell_type": "code",
   "execution_count": 102,
   "id": "gothic-practice",
   "metadata": {},
   "outputs": [
    {
     "name": "stdout",
     "output_type": "stream",
     "text": [
      "Enter a positive integer: 45\n",
      "The sum of the squares of the first 45 natural numbers is 31395.\n"
     ]
    }
   ],
   "source": [
    "n=int(input(\"Enter a positive integer: \"))\n",
    "sum_square= 0\n",
    "i=1\n",
    "while i<=n:\n",
    "    sum_square +=i ** 2\n",
    "    i +=1\n",
    "\n",
    "print(f\"The sum of the squares of the first {n} natural numbers is {sum_square}.\")\n"
   ]
  },
  {
   "cell_type": "code",
   "execution_count": 8,
   "id": "simplified-bulletin",
   "metadata": {},
   "outputs": [
    {
     "name": "stdout",
     "output_type": "stream",
     "text": [
      "Enter a natural number M: 4\n",
      "The smallest natural number n such that the sum of squares is greater than or equal to 4 is 2.\n"
     ]
    }
   ],
   "source": [
    "M=int(input(\"Enter a natural number M: \"))\n",
    "a=0\n",
    "\n",
    "for n in range(1,M + 1):\n",
    "    a += n ** 2\n",
    "    if a >= M:\n",
    "        print(f\"The smallest natural number n such that the sum of squares is greater than or equal to {M} is {n}.\")\n",
    "        break\n"
   ]
  },
  {
   "cell_type": "code",
   "execution_count": 104,
   "id": "taken-nepal",
   "metadata": {},
   "outputs": [
    {
     "name": "stdout",
     "output_type": "stream",
     "text": [
      "Enter a natural number M: 23\n",
      "The smallest natural number n such that the sum of squares is greater than or equal to 23 is 4.\n"
     ]
    }
   ],
   "source": [
    "M =int(input(\"Enter a natural number M: \"))\n",
    "a=0\n",
    "n=1\n",
    "\n",
    "while a < M:\n",
    "    a += n ** 2\n",
    "    if a >= M:\n",
    "        print(f\"The smallest natural number n such that the sum of squares is greater than or equal to {M} is {n}.\")\n",
    "    n +=1\n"
   ]
  },
  {
   "cell_type": "markdown",
   "id": "dedicated-truth",
   "metadata": {},
   "source": [
    "# Question 9"
   ]
  },
  {
   "cell_type": "code",
   "execution_count": 107,
   "id": "double-barcelona",
   "metadata": {},
   "outputs": [
    {
     "name": "stdout",
     "output_type": "stream",
     "text": [
      "Enter a natural number: 200\n",
      "Divisors of 200 are:\n",
      "1\n",
      "2\n",
      "4\n",
      "5\n",
      "8\n",
      "10\n",
      "20\n",
      "25\n",
      "40\n",
      "50\n",
      "100\n",
      "200\n"
     ]
    }
   ],
   "source": [
    "number=int(input(\"Enter a natural number: \"))\n",
    "print(f\"Divisors of {number} are:\")\n",
    "for i in range(1,number+1):\n",
    "    if number%i==0:\n",
    "        print(i)\n"
   ]
  },
  {
   "cell_type": "code",
   "execution_count": 108,
   "id": "superior-elizabeth",
   "metadata": {},
   "outputs": [
    {
     "name": "stdout",
     "output_type": "stream",
     "text": [
      "Enter an integer: 56\n",
      "Prime factors of 56 are:\n",
      "2\n",
      "2\n",
      "2\n",
      "7\n"
     ]
    }
   ],
   "source": [
    "number=int(input(\"Enter an integer: \"))\n",
    "n = number\n",
    "print(f\"Prime factors of {n} are:\")\n",
    "while number%2==0:\n",
    "    print(2)\n",
    "    number//=2\n",
    "i = 3\n",
    "while i * i<=number:\n",
    "    while number % i==0:\n",
    "        print(i)\n",
    "        number//=i\n",
    "    i +=2\n",
    "if number>2:\n",
    "    print(number)\n"
   ]
  },
  {
   "cell_type": "markdown",
   "id": "opened-douglas",
   "metadata": {},
   "source": [
    "# Question10"
   ]
  },
  {
   "cell_type": "code",
   "execution_count": 5,
   "id": "cooperative-arbor",
   "metadata": {},
   "outputs": [
    {
     "name": "stdout",
     "output_type": "stream",
     "text": [
      "Enter an integer between 0 and 9:4\n",
      "Enter a natural number N:5\n",
      "Multiplication table of 4 up to 5:\n",
      "4x1=4\n",
      "4x2=8\n",
      "4x3=12\n",
      "4x4=16\n",
      "4x5=20\n"
     ]
    }
   ],
   "source": [
    "n = int(input(\"Enter an integer between 0 and 9:\"))\n",
    "N = int(input(\"Enter a natural number N:\"))\n",
    "if 0 <= n <= 9:\n",
    "    print(f\"Multiplication table of {n} up to {N}:\")\n",
    "    for i in range(1,N + 1):\n",
    "        print(f\"{n}x{i}={n * i}\")\n",
    "else:\n",
    "    print(\"Please enter a number between 0 and 9.\")\n"
   ]
  },
  {
   "cell_type": "markdown",
   "id": "reflected-stations",
   "metadata": {},
   "source": [
    "# Question 11"
   ]
  },
  {
   "cell_type": "code",
   "execution_count": 2,
   "id": "foreign-multiple",
   "metadata": {},
   "outputs": [
    {
     "name": "stdout",
     "output_type": "stream",
     "text": [
      "0\n",
      "3\n",
      "6\n",
      "7\n",
      "9\n",
      "11\n",
      "12\n",
      "14\n",
      "15\n",
      "18\n",
      "21\n",
      "22\n",
      "24\n",
      "27\n",
      "28\n",
      "30\n",
      "33\n",
      "35\n",
      "36\n",
      "39\n"
     ]
    }
   ],
   "source": [
    "for i in range(0, 41):\n",
    "    if i%3==0 or i%7==0 or i%11==0:\n",
    "        print(i)\n"
   ]
  },
  {
   "cell_type": "markdown",
   "id": "hourly-header",
   "metadata": {},
   "source": [
    "# Question 12"
   ]
  },
  {
   "cell_type": "code",
   "execution_count": 4,
   "id": "timely-consistency",
   "metadata": {},
   "outputs": [
    {
     "name": "stdout",
     "output_type": "stream",
     "text": [
      "Enter a float value:45.5\n",
      "The floor of 45.5 is 45\n"
     ]
    }
   ],
   "source": [
    "x=float(input(\"Enter a float value:\"))\n",
    "floor_x = int(x) if x >= 0 else int(x) - 1\n",
    "print(f\"The floor of {x} is {floor_x}\")\n"
   ]
  },
  {
   "cell_type": "code",
   "execution_count": null,
   "id": "specialized-surfing",
   "metadata": {},
   "outputs": [],
   "source": []
  }
 ],
 "metadata": {
  "kernelspec": {
   "display_name": "Python 3",
   "language": "python",
   "name": "python3"
  },
  "language_info": {
   "codemirror_mode": {
    "name": "ipython",
    "version": 3
   },
   "file_extension": ".py",
   "mimetype": "text/x-python",
   "name": "python",
   "nbconvert_exporter": "python",
   "pygments_lexer": "ipython3",
   "version": "3.9.2"
  }
 },
 "nbformat": 4,
 "nbformat_minor": 5
}
